{
 "cells": [
  {
   "cell_type": "markdown",
   "metadata": {},
   "source": [
    "<h1 style=\"text-align:center\">Atelier numérique de thermodynamique statistique</h1>\n",
    "<h2 style=\"text-align:center\">PARTIE 1</h2>\n",
    "\n",
    "Veuillez indiquer le nom des membres de votre équipe dans la cellule suivante."
   ]
  },
  {
   "attachments": {},
   "cell_type": "markdown",
   "metadata": {},
   "source": []
  },
  {
   "cell_type": "markdown",
   "metadata": {},
   "source": [
    "# Atelier préparatoire #\n",
    "### Discussion interdisciplinaire de sujets en probablilité & statistiques ###\n",
    "\n",
    "**Quelques fondements de mathématiques statistiques:** par exemple bien définir variables aléatoires, échantillon et population totale, estimateurs, fonction de distribution cumulative (répartition), densité de probabilité, moments, etc. - **Programme GPH**\n",
    "\n",
    "**Les distributions statistiques de particules indiscernables:** en particulier celle de Fermi-Dirac avec les notions de potentiel chimique et d’occupation des états en fonction de la température, en analogie avec le remplissage selon le principe principe d’Aufbau introduit en classe pour les atomes à température nulle. - **Programme PHY**"
   ]
  },
  {
   "cell_type": "markdown",
   "metadata": {
    "nteract": {
     "transient": {
      "deleting": false
     }
    }
   },
   "source": [
    "# Introduction #\n",
    "Ce travail révise d'abord quelques bases générales de physique statistique classique avec le script `TDSrevision-2Dsimulation.py` qui simule la théorie cinétique des gaz parfaits en 2D. Cette simulation utilise la géométrie de sphères dures, mais dans le cas d'un gaz ici pour introduire des collisions élastiques sur des trajectoires ballistiques de particules. Une sphère est colorée et grossie seulement pour l’effet visuel dans l'animation, remarquez dans le code que la physique de l’algorithme considère bien des particules totalement identiques. Les questions sur cette simulation, à répondre directement dans les cellules du _Notebook_ ici-même, explorent quelques paramètres de la thermodynamique statistique et introduisent de nouveaux termes utiles à l'étude de la dynamique des électrons dans la matière.\n",
    "\n",
    "_N.B._ \n",
    "- _Pour montrer les animations à l'écran, le script `TDSrevision-2Dsimulation.py` importe la librairie `VPython` qu'il faut donc installer. Des liens vers sa documentation et de l'information complémentaire sont donnés dans la médiagraphie à la fin._\n",
    "- _Le code dans ce script est abusivement commenté dans notre contexte pédagogique, mais il serait bien sûr préférable de s’en tenir aux recommandations du <a href=\"https://www.python.org/dev/peps/pep-0008\"> PEP 8 — Style Guide for Python Code</a>._\n",
    "- _Notez finalement que la boucle principale à la fin du script laisse l'utilisateur voir l'animation aussi longtemps que souhaité, assurez-vous donc de savoir comment l'interrompre correctement avant de lancer la simulation ou de la remplacer par une boucle `for`._"
   ]
  },
  {
   "cell_type": "markdown",
   "metadata": {
    "nteract": {
     "transient": {
      "deleting": false
     }
    }
   },
   "source": [
    "# Théorie cinétique des gaz parfaits #"
   ]
  },
  {
   "attachments": {},
   "cell_type": "markdown",
   "metadata": {
    "nteract": {
     "transient": {
      "deleting": false
     }
    }
   },
   "source": [
    "### Simulation 2D ###\n",
    "\n",
    "<i>Note 1: Puisque la commande %un TDSrevion-2Dsimulation.py ne fonctionnait pas, on a recopié le fichier dans la première cellule.<i>"
   ]
  },
  {
   "cell_type": "code",
   "execution_count": 2,
   "metadata": {},
   "outputs": [
    {
     "data": {
      "text/html": [
       "<div id=\"glowscript\" class=\"glowscript\"></div>"
      ],
      "text/plain": [
       "<IPython.core.display.HTML object>"
      ]
     },
     "metadata": {},
     "output_type": "display_data"
    },
    {
     "data": {
      "application/javascript": "if (typeof Jupyter !== \"undefined\") { window.__context = { glowscript_container: $(\"#glowscript\").removeAttr(\"id\")};}else{ element.textContent = ' ';}",
      "text/plain": [
       "<IPython.core.display.Javascript object>"
      ]
     },
     "metadata": {},
     "output_type": "display_data"
    },
    {
     "data": {
      "application/javascript": "if (typeof Jupyter !== \"undefined\") {require.undef(\"nbextensions/vpython_libraries/glow.min\");}else{element.textContent = ' ';}",
      "text/plain": [
       "<IPython.core.display.Javascript object>"
      ]
     },
     "metadata": {},
     "output_type": "display_data"
    },
    {
     "data": {
      "application/javascript": "if (typeof Jupyter !== \"undefined\") {require.undef(\"nbextensions/vpython_libraries/glowcomm\");}else{element.textContent = ' ';}",
      "text/plain": [
       "<IPython.core.display.Javascript object>"
      ]
     },
     "metadata": {},
     "output_type": "display_data"
    },
    {
     "data": {
      "application/javascript": "if (typeof Jupyter !== \"undefined\") {require.undef(\"nbextensions/vpython_libraries/jquery-ui.custom.min\");}else{element.textContent = ' ';}",
      "text/plain": [
       "<IPython.core.display.Javascript object>"
      ]
     },
     "metadata": {},
     "output_type": "display_data"
    },
    {
     "data": {
      "application/javascript": "if (typeof Jupyter !== \"undefined\") {require([\"nbextensions/vpython_libraries/glow.min\"], function(){console.log(\"GLOW LOADED\");});}else{element.textContent = ' ';}",
      "text/plain": [
       "<IPython.core.display.Javascript object>"
      ]
     },
     "metadata": {},
     "output_type": "display_data"
    },
    {
     "data": {
      "application/javascript": "if (typeof Jupyter !== \"undefined\") {require([\"nbextensions/vpython_libraries/glowcomm\"], function(){console.log(\"GLOWCOMM LOADED\");});}else{element.textContent = ' ';}",
      "text/plain": [
       "<IPython.core.display.Javascript object>"
      ]
     },
     "metadata": {},
     "output_type": "display_data"
    },
    {
     "data": {
      "application/javascript": "if (typeof Jupyter !== \"undefined\") {require([\"nbextensions/vpython_libraries/jquery-ui.custom.min\"], function(){console.log(\"JQUERY LOADED\");});}else{element.textContent = ' ';}",
      "text/plain": [
       "<IPython.core.display.Javascript object>"
      ]
     },
     "metadata": {},
     "output_type": "display_data"
    }
   ],
   "source": [
    "from vpython import *\n",
    "import numpy as np\n",
    "import math\n",
    "import matplotlib.pyplot as plt\n",
    "\n",
    "# win = 500 # peut aider à définir la taille d'un autre objet visuel comme un histogramme proportionnellement à la taille du canevas.\n",
    "\n",
    "# Déclaration de variables influençant le temps d'exécution de la simulation\n",
    "Natoms = 200  # change this to have more or fewer atoms\n",
    "dt = 1E-5  # pas d'incrémentation temporel\n",
    "\n",
    "# Déclaration de variables physiques \"Typical values\"\n",
    "mass = 4E-3/6E23 # helium mass\n",
    "Ratom = 0.01 # wildly exaggerated size of an atom\n",
    "k = 1.4E-23 # Boltzmann constant # TODO: changer pour une constante de Boltzmann en eV/K :)\n",
    "T = 300 # around room temperature\n",
    "\n",
    "#### CANEVAS DE FOND ####\n",
    "L = 1 # container is a cube L on a side\n",
    "gray = color.gray(0.7) # color of edges of container and spheres below\n",
    "animation = canvas( width=750, height=500) # , align='left')\n",
    "animation.range = L\n",
    "# animation.title = 'Théorie cinétique des gaz parfaits'\n",
    "# s = \"\"\"  Simulation de particules modélisées en sphères dures pour représenter leur trajectoire ballistique avec collisions. Une sphère est colorée et grossie seulement pour l’effet visuel permettant de suivre sa trajectoire plus facilement dans l'animation, sa cinétique est identique à toutes les autres particules.\n",
    "\n",
    "# \"\"\"\n",
    "# animation.caption = s\n",
    "\n",
    "#### ARÊTES DE BOÎTE 2D ####\n",
    "d = L/2+Ratom\n",
    "r = 0.005\n",
    "cadre = curve(color=gray, radius=r)\n",
    "cadre.append([vector(-d,-d,0), vector(d,-d,0), vector(d,d,0), vector(-d,d,0), vector(-d,-d,0)])\n",
    "\n",
    "#### POSITION ET QUANTITÉ DE MOUVEMENT INITIALE DES SPHÈRES ####\n",
    "Atoms = [] # Objet qui contiendra les sphères pour l'animation\n",
    "p = [] # quantité de mouvement des sphères\n",
    "apos = [] # position des sphères\n",
    "pavg = sqrt(2*mass*1.5*k*T) # average kinetic energy p**2/(2mass) = (3/2)kT : Principe de l'équipartition de l'énergie en thermodynamique statistique classique # TODO: Changer pour quantités de mouvement initiales aléatoires sur une plage raisonnable cohérente avec température pièce\n",
    "\n",
    "for i in range(Natoms):\n",
    "    x = L*random()-L/2 # position aléatoire qui tient compte que l'origine est au centre de la boîte\n",
    "    y = L*random()-L/2\n",
    "    z = 0\n",
    "    if i == 0:  # garde une sphère plus grosse et colorée parmis toutes les grises\n",
    "        Atoms.append(simple_sphere(pos=vector(x,y,z), radius=0.03, color=color.magenta)) #, make_trail=True, retain=100, trail_radius=0.3*Ratom))\n",
    "    else: Atoms.append(simple_sphere(pos=vector(x,y,z), radius=Ratom, color=gray))\n",
    "    apos.append(vec(x,y,z)) # liste de la position initiale de toutes les sphères\n",
    "#    theta = pi*random() # direction de coordonnées sphériques, superflue en 2D\n",
    "    phi = 2*pi*random() # direction aléatoire pour la quantité de mouvement\n",
    "    px = pavg*cos(phi)  # qte de mvt initiale selon l'équipartition\n",
    "    py = pavg*sin(phi)\n",
    "    pz = 0\n",
    "    p.append(vector(px,py,pz)) # liste de la quantité de mouvement initiale de toutes les sphères\n",
    "\n",
    "#### FONCTION POUR IDENTIFIER LES COLLISIONS, I.E. LORSQUE LA DISTANCE ENTRE LES CENTRES DE 2 SPHÈRES EST À LA LIMITE DE S'INTERPÉNÉTRER ####\n",
    "def checkCollisions():\n",
    "    hitlist = []   # initialisation\n",
    "    r2 = 2*Ratom   # distance critique où les 2 sphères entre en contact à la limite de leur rayon\n",
    "    r2 *= r2   # produit scalaire pour éviter une comparaison vectorielle ci-dessous\n",
    "    for i in range(Natoms):\n",
    "        ai = apos[i]\n",
    "        for j in range(i) :\n",
    "            aj = apos[j]\n",
    "            dr = ai - aj   # la boucle dans une boucle itère pour calculer cette distance vectorielle dr entre chaque paire de sphère\n",
    "            if mag2(dr) < r2:   # test de collision où mag2(dr) qui retourne la norme élevée au carré de la distance intersphère dr\n",
    "                hitlist.append([i,j]) # liste numérotant toutes les paires de sphères en collision\n",
    "    return hitlist\n",
    "\n",
    "#### BOUCLE PRINCIPALE POUR L'ÉVOLUTION TEMPORELLE DE PAS dt ####\n",
    "## ATTENTION : la boucle laisse aller l'animation aussi longtemps que souhaité, assurez-vous de savoir comment interrompre vous-même correctement (souvent `ctrl+c`, mais peut varier)\n",
    "## ALTERNATIVE : vous pouvez bien sûr remplacer la boucle \"while\" par une boucle \"for\" avec un nombre d'itérations suffisant pour obtenir une bonne distribution statistique à l'équilibre\n",
    "\n",
    "for r in range(0,100):\n",
    "    rate(50)  # limite la vitesse de calcul de la simulation pour que l'animation soit visible à l'oeil humain!\n",
    "\n",
    "    #### DÉPLACE TOUTES LES SPHÈRES D'UN PAS SPATIAL deltax\n",
    "    vitesse = []   # vitesse instantanée de chaque sphère\n",
    "    deltax = []  # pas de position de chaque sphère correspondant à l'incrément de temps dt\n",
    "    for i in range(Natoms):\n",
    "        vitesse.append(p[i]/mass)   # par définition de la quantité de nouvement pour chaque sphère\n",
    "        deltax.append(vitesse[i] * dt)   # différence avant pour calculer l'incrément de position\n",
    "        Atoms[i].pos = apos[i] = apos[i] + deltax[i]  # nouvelle position de l'atome après l'incrément de temps dt\n",
    "\n",
    "    #### CONSERVE LA QUANTITÉ DE MOUVEMENT AUX COLLISIONS AVEC LES MURS DE LA BOÎTE ####\n",
    "    for i in range(Natoms):\n",
    "        loc = apos[i]\n",
    "        if abs(loc.x) > L/2:\n",
    "            if loc.x < 0: p[i].x =  abs(p[i].x)  # renverse composante x au mur de gauche\n",
    "            else: p[i].x =  -abs(p[i].x)   # renverse composante x au mur de droite\n",
    "        if abs(loc.y) > L/2:\n",
    "            if loc.y < 0: p[i].y = abs(p[i].y)  # renverse composante y au mur du bas\n",
    "            else: p[i].y =  -abs(p[i].y)  # renverse composante y au mur du haut\n",
    "\n",
    "    #### LET'S FIND THESE COLLISIONS!!! ####\n",
    "    hitlist = checkCollisions()\n",
    "\n",
    "    #### CONSERVE LA QUANTITÉ DE MOUVEMENT AUX COLLISIONS ENTRE SPHÈRES ####\n",
    "    for ij in hitlist:\n",
    "\n",
    "        # définition de nouvelles variables pour chaque paire de sphères en collision\n",
    "        i = ij[0]  # extraction du numéro des 2 sphères impliquées à cette itération\n",
    "        j = ij[1]\n",
    "        ptot = p[i]+p[j]   # quantité de mouvement totale des 2 sphères\n",
    "        mtot = 2*mass    # masse totale des 2 sphères\n",
    "        Vcom = ptot/mtot   # vitesse du référentiel barycentrique/center-of-momentum (com) frame\n",
    "        posi = apos[i]   # position de chacune des 2 sphères\n",
    "        posj = apos[j]\n",
    "        vi = p[i]/mass   # vitesse de chacune des 2 sphères\n",
    "        vj = p[j]/mass\n",
    "        rrel = posi-posj  # vecteur pour la distance entre les centres des 2 sphères\n",
    "        vrel = vj-vi   # vecteur pour la différence de vitesse entre les 2 sphères\n",
    "\n",
    "        # exclusion de cas où il n'y a pas de changements à faire\n",
    "        if vrel.mag2 == 0: continue  # exactly same velocities si et seulement si le vecteur vrel devient nul, la trajectoire des 2 sphères continue alors côte à côte\n",
    "        if rrel.mag > Ratom: continue  # one atom went all the way through another, la collision a été \"manquée\" à l'intérieur du pas deltax # TODO: ajouter une boucle fractionnant dt à une limite raisonnable pour aller chercher la collision manquée\n",
    "\n",
    "        # calcule la distance et temps d'interpénétration des sphères dures qui ne doit pas se produire dans ce modèle # TODO: donner géométrie en devoir en illustrant avec Geogebra -> Tikz et/ou animation wiki https://en.wikipedia.org/wiki/Elastic_collision#Two-dimensional_collision_with_two_moving_objects\n",
    "        dx = dot(rrel, vrel.hat)       # rrel.mag*cos(theta) où theta is the angle between vrel and rrel:\n",
    "        dy = cross(rrel, vrel.hat).mag # rrel.mag*sin(theta)\n",
    "        alpha = asin(dy/(2*Ratom))  # alpha is the angle of the triangle composed of rrel, path of atom j, and a line from the center of atom i to the center of atom j where atome j hits atom i\n",
    "        d = (2*Ratom)*cos(alpha)-dx # distance traveled into the atom from first contact\n",
    "        deltat = d/vrel.mag         # time spent moving from first contact to position inside atom\n",
    "\n",
    "        #### CHANGE L'INTERPÉNÉTRATION DES SPHÈRES PAR LA CINÉTIQUE DE COLLISION ####\n",
    "        posi = posi-vi*deltat   # back up to contact configuration\n",
    "        posj = posj-vj*deltat\n",
    "        pcomi = p[i]-mass*Vcom  # transform momenta to center-of-momentum (com) frame\n",
    "        pcomj = p[j]-mass*Vcom\n",
    "        rrel = hat(rrel)    # vecteur unitaire aligné avec rrel\n",
    "        pcomi = pcomi-2*dot(pcomi,rrel)*rrel # bounce in center-of-momentum (com) frame\n",
    "        pcomj = pcomj-2*dot(pcomj,rrel)*rrel  # TODO: convertir avec masse réduite et vitesse du centre de masse en corrigeant les unités\n",
    "        p[i] = pcomi+mass*Vcom # transform momenta back to lab frame\n",
    "        p[j] = pcomj+mass*Vcom\n",
    "        apos[i] = posi+(p[i]/mass)*deltat # move forward deltat in time, ramenant au même temps où sont rendues les autres sphères dans l'itération\n",
    "        apos[j] = posj+(p[j]/mass)*deltat"
   ]
  },
  {
   "cell_type": "markdown",
   "metadata": {},
   "source": [
    "### Questions statistiques ###"
   ]
  },
  {
   "cell_type": "markdown",
   "metadata": {},
   "source": [
    "I. _(3 points)_  &mdash; Utilisez la liste finale des vecteurs de quantité de mouvement $\\vec{p}$ de toutes les sphères pour trouver la moyenne de son carré $\\langle p^2\\rangle=\\langle\\vec{p}\\cdot\\vec{p}\\rangle$ et l'imprimer avec la fonction `print()` dans la cellule qui suit. "
   ]
  },
  {
   "cell_type": "code",
   "execution_count": null,
   "metadata": {},
   "outputs": [
    {
     "ename": "NameError",
     "evalue": "name 'p' is not defined",
     "output_type": "error",
     "traceback": [
      "\u001b[0;31m---------------------------------------------------------------------------\u001b[0m",
      "\u001b[0;31mNameError\u001b[0m                                 Traceback (most recent call last)",
      "Cell \u001b[0;32mIn[6], line 2\u001b[0m\n\u001b[1;32m      1\u001b[0m dotp\u001b[39m=\u001b[39m[] \u001b[39m#liste vide qui va contenir le produit scalaire de tous les vecteurs de la liste entre eux-mêmes\u001b[39;00m\n\u001b[0;32m----> 2\u001b[0m \u001b[39mfor\u001b[39;00m i \u001b[39min\u001b[39;00m \u001b[39mrange\u001b[39m(\u001b[39mlen\u001b[39m(p)):\n\u001b[1;32m      3\u001b[0m     dotp\u001b[39m.\u001b[39mappend(dot(p[i],p[i]))\n\u001b[1;32m      4\u001b[0m \u001b[39mprint\u001b[39m(\u001b[39msum\u001b[39m(dotp)\u001b[39m/\u001b[39m\u001b[39mlen\u001b[39m(dotp))\n",
      "\u001b[0;31mNameError\u001b[0m: name 'p' is not defined"
     ]
    }
   ],
   "source": [
    "\n",
    "dotp=[] # liste vide qui va contenir le produit scalaire de tous les vecteurs de la liste entre eux-mêmes\n",
    "for i in range(len(p)):\n",
    "    dotp.append(dot(p[i],p[i]))\n",
    "\n",
    "dotp_moy=sum(dotp)/len(dotp)\n",
    "\n",
    "print('Moyenne du carré de la quantité de mouvement: '+str(dotp_moy)+' kg*m/s')"
   ]
  },
  {
   "cell_type": "markdown",
   "metadata": {},
   "source": [
    "\n",
    "II. _(2 points)_  &mdash; La température $T$ (macroscopique) est proportionnelle à l'énergie cinétique moyenne de l'ensemble des particules et peut se calculer classiquement selon le <a href=\"https://fr.wikipedia.org/wiki/%C3%89quipartition_de_l%27%C3%A9nergie\">principe d'équipartition</a> qui s'écrit ainsi en tenant compte des 3 degrés de liberté en translation de chaque particule de masse $m$:\n",
    "\\begin{equation}\n",
    "\\frac{\\langle\\vec{p}^2\\rangle}{2m}=\\frac{3}{2}k_BT,\n",
    "\\end{equation}\n",
    "où $k_B$ est la constante de Boltzmann. Quelle est la température du gaz de sphères dures à la fin de la simulation? Est-ce qu'elle a changé significativement par rapport à sa valeur initiale?"
   ]
  },
  {
   "cell_type": "code",
   "execution_count": null,
   "metadata": {},
   "outputs": [],
   "source": [
    "print('Température retrouvée: '+str(round((2*dotp_moy)/(3*2*mass*k),5))+' K')"
   ]
  },
  {
   "attachments": {},
   "cell_type": "markdown",
   "metadata": {
    "nteract": {
     "transient": {
      "deleting": false
     }
    }
   },
   "source": [
    "III. _(10 points)_ &mdash; Modifiez le code de la simulation pour ajouter une fonction qui suit la trajectoire d'UNE SEULE particule, c'est-à-dire qu'elle doit enregistrer dans une liste des valeurs de variables pour cette particule à chacune de ses collisions. Les deux variables scalaires à lister sont:\n",
    "- la distance que la particule a parcouru entre chaque collision,\n",
    "- le temps écoulé entre ces collisions.\n",
    "\n",
    "Copiez le code de votre fonction dans la cellule qui suit en y commentant clairement les variables pour ces listes qui devront persister après avoir interrompu l'exécution de la simulation. N'oubliez pas d'inclure votre fichier Python (`.py`) modifié avec la simulation complète lors de la remise.\n",
    "\n",
    "<i>Note 2: La fonction lance une deuxième simulation, mais des modifications ont été apportées au code afin de récolter les informations d'une seule particule (la rose) tout au long de l'expérience. Après discussion avec Claudine, comme il ne s'agit pas d'un cours de physique numérique, elle n'y voit pas de problème. Les commentaires débutant par \"AJOUT:\" sont relatifs aux modifications apportées.<i>"
   ]
  },
  {
   "cell_type": "code",
   "execution_count": null,
   "metadata": {
    "nteract": {
     "transient": {
      "deleting": false
     }
    }
   },
   "outputs": [],
   "source": [
    "\n",
    "def particule_seule():\n",
    "    #### CANEVAS DE FOND ####\n",
    "    L = 1 # container is a cube L on a side\n",
    "    gray = color.gray(0.7) # color of edges of container and spheres below\n",
    "    animation = canvas( width=750, height=500) # , align='left')\n",
    "    animation.range = L\n",
    "    # animation.title = 'Théorie cinétique des gaz parfaits'\n",
    "    # s = \"\"\"  Simulation de particules modélisées en sphères dures pour représenter leur trajectoire ballistique avec collisions. Une sphère est colorée et grossie seulement pour l’effet visuel permettant de suivre sa trajectoire plus facilement dans l'animation, sa cinétique est identique à toutes les autres particules.\n",
    "\n",
    "    # \"\"\"\n",
    "    # animation.caption = s\n",
    "\n",
    "    #### ARÊTES DE BOÎTE 2D ####\n",
    "    d = L/2+Ratom\n",
    "    r = 0.005\n",
    "    cadre = curve(color=gray, radius=r)\n",
    "    cadre.append([vector(-d,-d,0), vector(d,-d,0), vector(d,d,0), vector(-d,d,0), vector(-d,-d,0)])\n",
    "\n",
    "    #### POSITION ET QUANTITÉ DE MOUVEMENT INITIALE DES SPHÈRES ####\n",
    "    Atoms = [] # Objet qui contiendra les sphères pour l'animation\n",
    "    p = [] # quantité de mouvement des sphères\n",
    "    apos = [] # position des sphères\n",
    "    pavg = sqrt(2*mass*1.5*k*T) # average kinetic energy p**2/(2mass) = (3/2)kT : Principe de l'équipartition de l'énergie en thermodynamique statistique classique # TODO: Changer pour quantités de mouvement initiales aléatoires sur une plage raisonnable cohérente avec température pièce\n",
    "\n",
    "    for i in range(Natoms):\n",
    "        x = L*random()-L/2 # position aléatoire qui tient compte que l'origine est au centre de la boîte\n",
    "        y = L*random()-L/2\n",
    "        z = 0\n",
    "        if i == 0:  # garde une sphère plus grosse et colorée parmis toutes les grises\n",
    "            Atoms.append(simple_sphere(pos=vector(x,y,z), radius=0.03, color=color.magenta)) #, make_trail=True, retain=100, trail_radius=0.3*Ratom))\n",
    "        else: Atoms.append(simple_sphere(pos=vector(x,y,z), radius=Ratom, color=gray))\n",
    "        apos.append(vec(x,y,z)) # liste de la position initiale de toutes les sphères\n",
    "    #    theta = pi*random() # direction de coordonnées sphériques, superflue en 2D\n",
    "        phi = 2*pi*random() # direction aléatoire pour la quantité de mouvement\n",
    "        px = pavg*cos(phi)  # qte de mvt initiale selon l'équipartition\n",
    "        py = pavg*sin(phi)\n",
    "        pz = 0\n",
    "        p.append(vector(px,py,pz)) # liste de la quantité de mouvement initiale de toutes les sphères\n",
    "\n",
    "\n",
    "        #### FONCTION POUR IDENTIFIER LES COLLISIONS, I.E. LORSQUE LA DISTANCE ENTRE LES CENTRES DE 2 SPHÈRES EST À LA LIMITE DE S'INTERPÉNÉTRER ####\n",
    "    def checkCollisions_seule(r,iteration_coll):\n",
    "        hitlist = []   # initialisation\n",
    "        r2 = 2*Ratom   # distance critique où les 2 sphères entre en contact à la limite de leur rayon\n",
    "        r2 *= r2   # produit scalaire pour éviter une comparaison vectorielle ci-dessous\n",
    "        for i in range(Natoms):\n",
    "            ai = apos[i]\n",
    "            for j in range(i) :\n",
    "                aj = apos[j]\n",
    "                dr = ai - aj   # la boucle dans une boucle itère pour calculer cette distance vectorielle dr entre chaque paire de sphère\n",
    "                if mag2(dr) < r2:   # test de collision où mag2(dr) qui retourne la norme élevée au carré de la distance intersphère dr\n",
    "                    hitlist.append([i,j]) # liste numérotant toutes les paires de sphères en collision\n",
    "        if (\", 0]\" in ''.join(str(i) for i in hitlist))==True: # AJOUT: une fois toutes les collisions répertoriées, vérifie si l'atome 0 a subit au moins une collision dans l'itération r. Si oui, on l'ajoute à la liste des itérations collisionnelles.\n",
    "            iteration_coll.append(r) # AJOUT\n",
    "        return hitlist,iteration_coll # AJOUT: retourne un tuple comprenant la liste des collisions totale et la liste des itérations pour lesquels au moins une collision de l'atome 0 est enregistrée.\n",
    "\n",
    "    #### BOUCLE PRINCIPALE POUR L'ÉVOLUTION TEMPORELLE DE PAS dt ####\n",
    "    ## ATTENTION : la boucle laisse aller l'animation aussi longtemps que souhaité, assurez-vous de savoir comment interrompre vous-même correctement (souvent `ctrl+c`, mais peut varier)\n",
    "    ## ALTERNATIVE : vous pouvez bien sûr remplacer la boucle \"while\" par une boucle \"for\" avec un nombre d'itérations suffisant pour obtenir une bonne distribution statistique à l'équilibre\n",
    "\n",
    "    #Objectif: suivre l'atome 0\n",
    "    iteration_coll=[] # AJOUT: iterations à lesquelles l'atome 0 subit une collision\n",
    "    iteration_vitesse=[] # AJOUT: vitesse de la particule 0 à chaque itération  \n",
    "\n",
    "    for r in range(400): #nombre d'itération de pas dt\n",
    "        rate(25)  # limite la vitesse de calcul de la simulation pour que l'animation soit visible à l'oeil humain!\n",
    "\n",
    "        #### DÉPLACE TOUTES LES SPHÈRES D'UN PAS SPATIAL deltax\n",
    "        vitesse = []   # vitesse instantanée de chaque sphère\n",
    "        deltax = []  # pas de position de chaque sphère correspondant à l'incrément de temps dt\n",
    "        for i in range(Natoms):\n",
    "            vitesse.append(p[i]/mass)   # par définition de la quantité de nouvement pour chaque sphère\n",
    "            deltax.append(vitesse[i] * dt)   # différence avant pour calculer l'incrément de position\n",
    "            Atoms[i].pos = apos[i] = apos[i] + deltax[i]  # nouvelle position de l'atome après l'incrément de temps dt\n",
    "            if i==0:\n",
    "                iteration_vitesse.append(vitesse[i]) # AJOUT: sauvegarde la vitesse de la particule 0 à chaque itération\n",
    "\n",
    "        #### CONSERVE LA QUANTITÉ DE MOUVEMENT AUX COLLISIONS AVEC LES MURS DE LA BOÎTE ####\n",
    "        for i in range(Natoms):\n",
    "            loc = apos[i]\n",
    "            if abs(loc.x) > L/2:\n",
    "                if loc.x < 0: p[i].x =  abs(p[i].x)  # renverse composante x au mur de gauche\n",
    "                else: p[i].x =  -abs(p[i].x)   # renverse composante x au mur de droite\n",
    "                if i==0:\n",
    "                    iteration_coll.append(r) # AJOUT: stockage de l'itération à laquelle la sphère rose frappe un mur (gauche ou droite)\n",
    "            if abs(loc.y) > L/2:\n",
    "                if loc.y < 0: p[i].y = abs(p[i].y)  # renverse composante y au mur du bas\n",
    "                else: p[i].y =  -abs(p[i].y)  # renverse composante y au mur du haut\n",
    "                if i==0:\n",
    "                    iteration_coll.append(r) # AJOUT: stockage de l'itération à laquelle la sphère rose frappe un mur (haut ou bas)\n",
    "                    \n",
    "        #### LET'S FIND THESE COLLISIONS!!! ####\n",
    "        checkcollision_tuple = checkCollisions_seule(r,iteration_coll)\n",
    "        hitlist = checkcollision_tuple[0]\n",
    "        iteration_coll=checkcollision_tuple[1]\n",
    "\n",
    "        #### CONSERVE LA QUANTITÉ DE MOUVEMENT AUX COLLISIONS ENTRE SPHÈRES ####\n",
    "        for ij in hitlist:\n",
    "\n",
    "            # définition de nouvelles variables pour chaque paire de sphères en collision\n",
    "            i = ij[0]  # extraction du numéro des 2 sphères impliquées à cette itération\n",
    "            j = ij[1]\n",
    "            ptot = p[i]+p[j]   # quantité de mouvement totale des 2 sphères\n",
    "            mtot = 2*mass    # masse totale des 2 sphères\n",
    "            Vcom = ptot/mtot   # vitesse du référentiel barycentrique/center-of-momentum (com) frame\n",
    "            posi = apos[i]   # position de chacune des 2 sphères\n",
    "            posj = apos[j]\n",
    "            vi = p[i]/mass   # vitesse de chacune des 2 sphères\n",
    "            vj = p[j]/mass\n",
    "            rrel = posi-posj  # vecteur pour la distance entre les centres des 2 sphères\n",
    "            vrel = vj-vi   # vecteur pour la différence de vitesse entre les 2 sphères\n",
    "\n",
    "            # exclusion de cas où il n'y a pas de changements à faire\n",
    "            if vrel.mag2 == 0: continue  # exactly same velocities si et seulement si le vecteur vrel devient nul, la trajectoire des 2 sphères continue alors côte à côte\n",
    "            if rrel.mag > Ratom: continue  # one atom went all the way through another, la collision a été \"manquée\" à l'intérieur du pas deltax # TODO: ajouter une boucle fractionnant dt à une limite raisonnable pour aller chercher la collision manquée\n",
    "\n",
    "            # calcule la distance et temps d'interpénétration des sphères dures qui ne doit pas se produire dans ce modèle # TODO: donner géométrie en devoir en illustrant avec Geogebra -> Tikz et/ou animation wiki https://en.wikipedia.org/wiki/Elastic_collision#Two-dimensional_collision_with_two_moving_objects\n",
    "            dx = dot(rrel, vrel.hat)       # rrel.mag*cos(theta) où theta is the angle between vrel and rrel:\n",
    "            dy = cross(rrel, vrel.hat).mag # rrel.mag*sin(theta)\n",
    "            alpha = asin(dy/(2*Ratom))  # alpha is the angle of the triangle composed of rrel, path of atom j, and a line from the center of atom i to the center of atom j where atome j hits atom i\n",
    "            d = (2*Ratom)*cos(alpha)-dx # distance traveled into the atom from first contact\n",
    "            deltat = d/vrel.mag         # time spent moving from first contact to position inside atom\n",
    "\n",
    "            #### CHANGE L'INTERPÉNÉTRATION DES SPHÈRES PAR LA CINÉTIQUE DE COLLISION ####\n",
    "            posi = posi-vi*deltat   # back up to contact configuration\n",
    "            posj = posj-vj*deltat\n",
    "            pcomi = p[i]-mass*Vcom  # transform momenta to center-of-momentum (com) frame\n",
    "            pcomj = p[j]-mass*Vcom\n",
    "            rrel = hat(rrel)    # vecteur unitaire aligné avec rrel\n",
    "            pcomi = pcomi-2*dot(pcomi,rrel)*rrel # bounce in center-of-momentum (com) frame\n",
    "            pcomj = pcomj-2*dot(pcomj,rrel)*rrel  # TODO: convertir avec masse réduite et vitesse du centre de masse en corrigeant les unités\n",
    "            p[i] = pcomi+mass*Vcom # transform momenta back to lab frame\n",
    "            p[j] = pcomj+mass*Vcom\n",
    "            apos[i] = posi+(p[i]/mass)*deltat # move forward deltat in time, ramenant au même temps où sont rendues les autres sphères dans l'itération\n",
    "            apos[j] = posj+(p[j]/mass)*deltat\n",
    "\n",
    "\n",
    "    nb_iteration_entre_coll = [j-i for i, j in zip(iteration_coll[:-1], iteration_coll[1:])] # AJOUT: nombre d'itérations entre deux itérations correspondantes à une collision de l'atome 0\n",
    "    temps_entre_coll = [i * dt for i in nb_iteration_entre_coll] # AJOUT: le temps entre deux collisions est obtenu en multipliant le nombre d'itérations entre deux collisions par le temps dt écoulé entre deux itérations\n",
    "\n",
    "    vitesse_coll_mag = [mag(iteration_vitesse[i]) for i in iteration_coll] # AJOUT: extrait la magnitude des vecteurs vitesses de la particule 0 à chaque collision\n",
    "    vitesse_coll_vecteur = [iteration_vitesse[i] for i in iteration_coll] # AJOUT: extrait les vecteurs vitesses de la particule 0 chaque collision\n",
    "    deplacement_entre_coll = [i * j for i,j in zip(vitesse_coll_mag, temps_entre_coll)] # AJOUT: calcul le déplacement entre les collisions en multipliant le temps écoulé par la vitesse x=vt\n",
    "\n",
    "    temps_moy=sum(temps_entre_coll)/len(temps_entre_coll) # AJOUT: effectue la moyenne des durées entre les collisions\n",
    "    deplacement_moy=sum(deplacement_entre_coll)/len(deplacement_entre_coll) # AJOUT: calcul la moyenne des déplacements inter collisionnels\n",
    "\n",
    "    return deplacement_entre_coll,temps_entre_coll, deplacement_moy, temps_moy, vitesse_coll_mag, vitesse_coll_vecteur # AJOUT: retourne des listes utiles pour la suite\n"
   ]
  },
  {
   "cell_type": "markdown",
   "metadata": {
    "nteract": {
     "transient": {
      "deleting": false
     }
    }
   },
   "source": [
    "IV. _(2 points)_ &mdash; Calculez le **libre parcours moyen** $l_{moy}$ et le **temps de collision** $\\tau$ qui sont les valeurs moyennes des deux listes compilées à l’étape précédente.\n",
    "\n",
    "_Pour votre information, le libre parcours moyen est de l’ordre de 100 nm dans l'air à température et pression ambiantes, mais_ $l_{moy}$ _peut dépasser 100 000 km dans une enceinte sous vide avec les technologies de pompes modernes!_\n",
    "\n"
   ]
  },
  {
   "cell_type": "code",
   "execution_count": null,
   "metadata": {
    "nteract": {
     "transient": {
      "deleting": false
     }
    }
   },
   "outputs": [],
   "source": [
    "\n",
    "resultats_particule_seule = particule_seule()\n",
    "\n",
    "print('Libre parcours moyen de la particule seule: '+str(round(resultats_particule_seule[2],5))+' m')\n",
    "print('Temps moyen entre les collisions de la particule seule: '+str(round(resultats_particule_seule[3],5))+' s')"
   ]
  },
  {
   "cell_type": "markdown",
   "metadata": {
    "nteract": {
     "transient": {
      "deleting": false
     }
    }
   },
   "source": [
    "V. _(2 points)_ Calculez la vitesse $\\vec{v}$ de la particule entre chaque paire de collisions. Quelle est la vitesse moyenne $\\langle\\vec{v}\\rangle$ de la particule?"
   ]
  },
  {
   "cell_type": "code",
   "execution_count": null,
   "metadata": {
    "nteract": {
     "transient": {
      "deleting": false
     }
    }
   },
   "outputs": [],
   "source": [
    "\n",
    "vitesse_entre_coll_seule = [i/j for i, j in zip(resultats_particule_seule[0], resultats_particule_seule[1])] # v=x/t pour chaque \"entre collisions\"\n",
    "vitesse_moyenne_particule_seule = sum(vitesse_entre_coll_seule)/len(vitesse_entre_coll_seule)\n",
    "\n",
    "print('Vitesse moyenne de la particule seule: '+str(round(vitesse_moyenne_particule_seule,5))+' m/s')"
   ]
  },
  {
   "cell_type": "markdown",
   "metadata": {
    "nteract": {
     "transient": {
      "deleting": false
     }
    }
   },
   "source": [
    "VI. _(5 points)_ &mdash; Pour cette même liste de vitesses, comparez les distributions de la norme $||\\vec{v}||$, du carré $v^2$ et d’une de ses composantes $v_x^2$ en étalonnant l’abscisse pour contraster les histogrammes avec une échelle appropriée. Indiquez sur ce graphique la moyenne, le mode, la médiane et la moyenne quadratique des distributions."
   ]
  },
  {
   "cell_type": "code",
   "execution_count": null,
   "metadata": {
    "nteract": {
     "transient": {
      "deleting": false
     }
    }
   },
   "outputs": [],
   "source": [
    "\n",
    "vitesse_entre_coll_mag_seule=resultats_particule_seule[4]\n",
    "vitesse_entre_coll_vecteur_seule=resultats_particule_seule[5]\n",
    "vitesse_entre_coll_carre_seule=[dot(vitesse_entre_coll_vecteur_seule[i],vitesse_entre_coll_vecteur_seule[i]) for i in range(0,len(vitesse_entre_coll_vecteur_seule))]\n",
    "\n",
    "vitesse_entre_coll_x_seule = [vitesse_entre_coll_vecteur_seule[i].x for i in range(len(vitesse_entre_coll_vecteur_seule))]\n",
    "\n",
    "#print(vitesse_entre_coll_mag_seule)\n",
    "#print(vitesse_entre_coll_carre_seule)\n",
    "#print(vitesse_entre_coll_x_seule)\n",
    "\n",
    "fig1=plt.figure()\n",
    "\n",
    "fig1, axs = plt.subplots(3, 1)\n",
    "\n",
    "axs[0].hist(vitesse_entre_coll_mag_seule, bins=20, edgecolor='black', color='red')\n",
    "axs[0].title.set_text('Module de la vitesse ||v||')\n",
    "\n",
    "axs[1].hist(vitesse_entre_coll_carre_seule, bins=20, edgecolor='black', color='green')\n",
    "axs[1].title.set_text('Module de la vitesse au carré ||v^2||')\n",
    "axs[1].set_ylabel(\"Quantité d'inter collisions\")\n",
    "\n",
    "axs[2].hist(vitesse_entre_coll_x_seule, bins=20, edgecolor='black', color='blue')\n",
    "axs[2].title.set_text('Module de la vitesse en x ||v_x||')\n",
    "axs[2].set_xlabel(\"Vitesse [m/s]\")\n",
    "\n",
    "plt.tight_layout()\n",
    "\n",
    "#fig1.savefig(\"/Users/david.tremblay7/Desktop/histo_vitesses.pdf\", bbox_inches='tight')\n",
    "\n",
    "plt.show()"
   ]
  },
  {
   "cell_type": "markdown",
   "metadata": {
    "nteract": {
     "transient": {
      "deleting": false
     }
    }
   },
   "source": [
    "# Médiagraphie #\n",
    " - La simulation utilise la librairie <a href=\"https://vpython.org\">VPython</a> conçue pour faciliter la visualisation de physique en 3D, avec les instructions d’installation <a href=\"https://vpython.org/presentation2018/install.html\">ici</a> et la documentation <a href=\"https://www.glowscript.org/docs/VPythonDocs/index.html\">ici</a>. Le code adapte en 2D et commente en détail l’exemple <a href=\"https://www.glowscript.org/#/user/GlowScriptDemos/folder/Examples/program/HardSphereGas-VPython\">HardSphereGas-VPython</a> du site interactif <a href=\"https://www.glowscript.org\">GlowScript</a> pour programmer des animations avec VPython directement en ligne."
   ]
  }
 ],
 "metadata": {
  "kernelspec": {
   "display_name": "Python 3",
   "language": "python",
   "name": "python3"
  },
  "language_info": {
   "codemirror_mode": {
    "name": "ipython",
    "version": 3
   },
   "file_extension": ".py",
   "mimetype": "text/x-python",
   "name": "python",
   "nbconvert_exporter": "python",
   "pygments_lexer": "ipython3",
   "version": "3.11.1"
  },
  "vscode": {
   "interpreter": {
    "hash": "95d745ba7d4956a2c972602a1881faa5aacde8c57f39878a3d2b517a3ec985cc"
   }
  }
 },
 "nbformat": 4,
 "nbformat_minor": 4
}
